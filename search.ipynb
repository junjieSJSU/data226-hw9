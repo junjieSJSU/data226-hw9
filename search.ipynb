{
 "cells": [
  {
   "cell_type": "code",
   "execution_count": 2,
   "metadata": {},
   "outputs": [
    {
     "name": "stdout",
     "output_type": "stream",
     "text": [
      "Collecting pandas\n",
      "  Using cached pandas-2.2.3-cp311-cp311-win_amd64.whl.metadata (19 kB)\n",
      "Collecting numpy>=1.23.2 (from pandas)\n",
      "  Downloading numpy-2.1.3-cp311-cp311-win_amd64.whl.metadata (60 kB)\n",
      "     ---------------------------------------- 0.0/60.8 kB ? eta -:--:--\n",
      "     ------------------- ------------------ 30.7/60.8 kB 660.6 kB/s eta 0:00:01\n",
      "     -------------------------------------- 60.8/60.8 kB 816.2 kB/s eta 0:00:00\n",
      "Requirement already satisfied: python-dateutil>=2.8.2 in c:\\users\\jeffc\\onedrive\\documents\\sjsu classes\\data 226\\hw9\\hw9env\\lib\\site-packages (from pandas) (2.9.0.post0)\n",
      "Collecting pytz>=2020.1 (from pandas)\n",
      "  Using cached pytz-2024.2-py2.py3-none-any.whl.metadata (22 kB)\n",
      "Collecting tzdata>=2022.7 (from pandas)\n",
      "  Using cached tzdata-2024.2-py2.py3-none-any.whl.metadata (1.4 kB)\n",
      "Requirement already satisfied: six>=1.5 in c:\\users\\jeffc\\onedrive\\documents\\sjsu classes\\data 226\\hw9\\hw9env\\lib\\site-packages (from python-dateutil>=2.8.2->pandas) (1.16.0)\n",
      "Using cached pandas-2.2.3-cp311-cp311-win_amd64.whl (11.6 MB)\n",
      "Downloading numpy-2.1.3-cp311-cp311-win_amd64.whl (12.9 MB)\n",
      "   ---------------------------------------- 0.0/12.9 MB ? eta -:--:--\n",
      "   ---------------------------------------- 0.1/12.9 MB 4.2 MB/s eta 0:00:04\n",
      "   ---- ----------------------------------- 1.3/12.9 MB 16.8 MB/s eta 0:00:01\n",
      "   ---------- ----------------------------- 3.3/12.9 MB 26.0 MB/s eta 0:00:01\n",
      "   ---------------- ----------------------- 5.3/12.9 MB 30.8 MB/s eta 0:00:01\n",
      "   ---------------------- ----------------- 7.2/12.9 MB 33.1 MB/s eta 0:00:01\n",
      "   ----------------------------- ---------- 9.3/12.9 MB 35.1 MB/s eta 0:00:01\n",
      "   ----------------------------------- ---- 11.5/12.9 MB 43.5 MB/s eta 0:00:01\n",
      "   ---------------------------------------  12.9/12.9 MB 43.7 MB/s eta 0:00:01\n",
      "   ---------------------------------------- 12.9/12.9 MB 40.9 MB/s eta 0:00:00\n",
      "Using cached pytz-2024.2-py2.py3-none-any.whl (508 kB)\n",
      "Using cached tzdata-2024.2-py2.py3-none-any.whl (346 kB)\n",
      "Installing collected packages: pytz, tzdata, numpy, pandas\n",
      "Successfully installed numpy-2.1.3 pandas-2.2.3 pytz-2024.2 tzdata-2024.2\n"
     ]
    },
    {
     "name": "stderr",
     "output_type": "stream",
     "text": [
      "\n",
      "[notice] A new release of pip is available: 24.0 -> 24.3.1\n",
      "[notice] To update, run: python.exe -m pip install --upgrade pip\n"
     ]
    }
   ],
   "source": [
    "!pip install pandas"
   ]
  },
  {
   "cell_type": "code",
   "execution_count": 3,
   "metadata": {},
   "outputs": [],
   "source": [
    "import pandas as pd\n",
    "from vespa.application import Vespa\n",
    "from vespa.io import VespaResponse, VespaQueryResponse\n"
   ]
  },
  {
   "cell_type": "code",
   "execution_count": 6,
   "metadata": {},
   "outputs": [],
   "source": [
    "def display_hits_as_df(response: VespaQueryResponse, fields) -> pd.DataFrame:\n",
    "    records = []\n",
    "    for hit in response.hits:\n",
    "        record = {}\n",
    "        for field in fields:\n",
    "            record[field] = hit[\"fields\"][field]\n",
    "        records.append(record)\n",
    "    return pd.DataFrame(records)\n",
    "\n",
    "\n",
    "def keyword_search(app, search_query):\n",
    "    query = {\n",
    "        \"yql\": \"select * from sources * where userQuery() limit 5\",\n",
    "        \"query\": search_query,\n",
    "        \"ranking\": \"bm25\",\n",
    "    }\n",
    "    response = app.query(query)\n",
    "    return display_hits_as_df(response, [\"doc_id\", \"title\"])\n",
    "\n",
    "\n",
    "def semantic_search(app, query):\n",
    "    query = {\n",
    "        \"yql\": \"select * from sources * where ({targetHits:100}nearestNeighbor(embedding,e)) limit 5\",\n",
    "        \"query\": query,\n",
    "        \"ranking\": \"semantic\",\n",
    "        \"input.query(e)\": \"embed(@query)\"\n",
    "    }\n",
    "    response = app.query(query)\n",
    "    return display_hits_as_df(response, [\"doc_id\", \"title\"])\n",
    "\n",
    "\n",
    "def get_embedding(doc_id):\n",
    "    query = {\n",
    "        \"yql\" : f\"select doc_id, title, text, embedding from content.doc where doc_id contains '{doc_id}'\",\n",
    "        \"hits\": 1\n",
    "    }\n",
    "    result = app.query(query)\n",
    "    \n",
    "    if result.hits:\n",
    "        return result.hits[0]\n",
    "    return None\n",
    "\n",
    "\n",
    "def query_movies_by_embedding(embedding_vector):\n",
    "    query = {\n",
    "        'hits': 5,\n",
    "        'yql': 'select * from content.doc where ({targetHits:5}nearestNeighbor(embedding, user_embedding))',\n",
    "        'ranking.features.query(user_embedding)': str(embedding_vector),\n",
    "        'ranking.profile': 'recommendation'\n",
    "    }\n",
    "    return app.query(query)"
   ]
  },
  {
   "cell_type": "code",
   "execution_count": 11,
   "metadata": {},
   "outputs": [
    {
     "name": "stdout",
     "output_type": "stream",
     "text": [
      "  doc_id                                     title\n",
      "0    767    Harry Potter and the Half-Blood Prince\n",
      "1    671  Harry Potter and the Philosopher's Stone\n",
      "2    674       Harry Potter and the Goblet of Fire\n",
      "3    673  Harry Potter and the Prisoner of Azkaban\n",
      "4  13967                               Miss Potter\n"
     ]
    }
   ],
   "source": [
    "# Replace with the host and port of your local Vespa instance\n",
    "app = Vespa(url=\"http://localhost\", port=8080)\n",
    "\n",
    "query = \"Harry Potter and the Half-Blood Prince\"\n",
    "\n",
    "df = keyword_search(app, query)\n",
    "print(df.head())"
   ]
  },
  {
   "cell_type": "code",
   "execution_count": 9,
   "metadata": {},
   "outputs": [
    {
     "name": "stdout",
     "output_type": "stream",
     "text": [
      "   doc_id                                      title\n",
      "0     767     Harry Potter and the Half-Blood Prince\n",
      "1     675  Harry Potter and the Order of the Phoenix\n",
      "2     672    Harry Potter and the Chamber of Secrets\n",
      "3     674        Harry Potter and the Goblet of Fire\n",
      "4  168705                                 BloodRayne\n"
     ]
    }
   ],
   "source": [
    "\n",
    "df = semantic_search(app, query)\n",
    "print(df.head())"
   ]
  },
  {
   "cell_type": "code",
   "execution_count": 8,
   "metadata": {},
   "outputs": [
    {
     "name": "stdout",
     "output_type": "stream",
     "text": [
      "  doc_id                                      title  \\\n",
      "0    767     Harry Potter and the Half-Blood Prince   \n",
      "1    675  Harry Potter and the Order of the Phoenix   \n",
      "2    672    Harry Potter and the Chamber of Secrets   \n",
      "3    671   Harry Potter and the Philosopher's Stone   \n",
      "4    674        Harry Potter and the Goblet of Fire   \n",
      "\n",
      "                                                text  \n",
      "0  As Harry begins his sixth year at Hogwarts, he...  \n",
      "1  Returning for his fifth year of study at Hogwa...  \n",
      "2  Ignoring threats to his life, Harry returns to...  \n",
      "3  Harry Potter has lived under the stairs at his...  \n",
      "4  Harry starts his fourth year at Hogwarts, comp...  \n"
     ]
    }
   ],
   "source": [
    "emb = get_embedding(\"767\")\n",
    "results = query_movies_by_embedding(emb[\"fields\"][\"embedding\"])\n",
    "df = display_hits_as_df(results, [\"doc_id\", \"title\", \"text\"])\n",
    "print(df.head())"
   ]
  }
 ],
 "metadata": {
  "kernelspec": {
   "display_name": "hw9env",
   "language": "python",
   "name": "python3"
  },
  "language_info": {
   "codemirror_mode": {
    "name": "ipython",
    "version": 3
   },
   "file_extension": ".py",
   "mimetype": "text/x-python",
   "name": "python",
   "nbconvert_exporter": "python",
   "pygments_lexer": "ipython3",
   "version": "3.11.9"
  }
 },
 "nbformat": 4,
 "nbformat_minor": 2
}
